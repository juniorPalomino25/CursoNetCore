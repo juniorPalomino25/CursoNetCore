{
  "nbformat": 4,
  "nbformat_minor": 0,
  "metadata": {
    "colab": {
      "name": "DL08VerificacionManual_sonar.ipynb",
      "provenance": [],
      "collapsed_sections": [],
      "authorship_tag": "ABX9TyNPlrKQIj4WHqwDyV5htTZT",
      "include_colab_link": true
    },
    "kernelspec": {
      "name": "python3",
      "display_name": "Python 3"
    },
    "language_info": {
      "name": "python"
    }
  },
  "cells": [
    {
      "cell_type": "markdown",
      "metadata": {
        "id": "view-in-github",
        "colab_type": "text"
      },
      "source": [
        "<a href=\"https://colab.research.google.com/github/juniorPalomino25/CursoNetCore/blob/master/DL08VerificacionManual_sonar.ipynb\" target=\"_parent\"><img src=\"https://colab.research.google.com/assets/colab-badge.svg\" alt=\"Open In Colab\"/></a>"
      ]
    },
    {
      "cell_type": "markdown",
      "source": [
        "# **Conjunto de Validación Manual**"
      ],
      "metadata": {
        "id": "CfhvNwbXNljT"
      }
    },
    {
      "cell_type": "markdown",
      "source": [
        "### Importar librerías"
      ],
      "metadata": {
        "id": "Ycq26BHrNnJz"
      }
    },
    {
      "cell_type": "code",
      "execution_count": null,
      "metadata": {
        "id": "234Ugn-nNY9U"
      },
      "outputs": [],
      "source": [
        "from keras.models import Sequential\n",
        "from keras.layers import Dense\n",
        "from sklearn.model_selection import train_test_split\n",
        "import numpy"
      ]
    },
    {
      "cell_type": "markdown",
      "source": [
        "### Cargar los datos"
      ],
      "metadata": {
        "id": "UrvYrQhsNk6s"
      }
    },
    {
      "cell_type": "code",
      "source": [
        "datos = numpy.loadtxt(\"sonar_transformado_R_M.txt\",delimiter=\",\")"
      ],
      "metadata": {
        "id": "xQ7MKF5PNvd7"
      },
      "execution_count": null,
      "outputs": []
    },
    {
      "cell_type": "markdown",
      "source": [
        "Dividir la entrada (X) y la salida (y)"
      ],
      "metadata": {
        "id": "GmKpZqKiN1HT"
      }
    },
    {
      "cell_type": "code",
      "source": [
        "X = datos[:,0:60]"
      ],
      "metadata": {
        "id": "yxLqZotZN17q"
      },
      "execution_count": null,
      "outputs": []
    },
    {
      "cell_type": "code",
      "source": [
        "y = datos[:,60]"
      ],
      "metadata": {
        "id": "VTsQ9uGwN5cz"
      },
      "execution_count": null,
      "outputs": []
    },
    {
      "cell_type": "markdown",
      "source": [
        "Dividir 67% para entrenamiento y 33% para prueba"
      ],
      "metadata": {
        "id": "5spVvoMXN8Vy"
      }
    },
    {
      "cell_type": "code",
      "source": [
        "X_train, X_test, y_train, y_test = train_test_split(X,y,test_size=0.33)"
      ],
      "metadata": {
        "id": "u57Pc95rN8zy"
      },
      "execution_count": null,
      "outputs": []
    },
    {
      "cell_type": "markdown",
      "source": [
        "Crear el modelo"
      ],
      "metadata": {
        "id": "y7oOkqK8OGGq"
      }
    },
    {
      "cell_type": "code",
      "source": [
        "modelo = Sequential()\n",
        "modelo.add(Dense(12, input_dim=60, activation='relu'))\n",
        "modelo.add(Dense(8,activation='relu'))\n",
        "modelo.add(Dense(1,activation='sigmoid'))"
      ],
      "metadata": {
        "id": "3rGbrVkPOGcK"
      },
      "execution_count": null,
      "outputs": []
    },
    {
      "cell_type": "markdown",
      "source": [
        "Compilar el modelo"
      ],
      "metadata": {
        "id": "cfkA6wgmOKu5"
      }
    },
    {
      "cell_type": "code",
      "source": [
        "modelo.compile(loss='binary_crossentropy',optimizer='adam',metrics=['accuracy'])"
      ],
      "metadata": {
        "id": "7sEw5dh7OLVr"
      },
      "execution_count": null,
      "outputs": []
    },
    {
      "cell_type": "markdown",
      "source": [
        "Entrenar el modelo"
      ],
      "metadata": {
        "id": "px7JfHsvOOQp"
      }
    },
    {
      "cell_type": "code",
      "source": [
        "historia = modelo.fit(X_train, y_train, validation_data=(X_test,y_test), epochs=150, batch_size=10)"
      ],
      "metadata": {
        "colab": {
          "base_uri": "https://localhost:8080/"
        },
        "id": "djgpgLxrOOpR",
        "outputId": "17756701-ed27-4ef9-d296-5e2c3f8b7582"
      },
      "execution_count": null,
      "outputs": [
        {
          "output_type": "stream",
          "name": "stdout",
          "text": [
            "Epoch 1/150\n",
            "14/14 [==============================] - 2s 20ms/step - loss: 0.6949 - accuracy: 0.4892 - val_loss: 0.6910 - val_accuracy: 0.5652\n",
            "Epoch 2/150\n",
            "14/14 [==============================] - 0s 6ms/step - loss: 0.6862 - accuracy: 0.5683 - val_loss: 0.6830 - val_accuracy: 0.5507\n",
            "Epoch 3/150\n",
            "14/14 [==============================] - 0s 6ms/step - loss: 0.6792 - accuracy: 0.5468 - val_loss: 0.6782 - val_accuracy: 0.5507\n",
            "Epoch 4/150\n",
            "14/14 [==============================] - 0s 5ms/step - loss: 0.6769 - accuracy: 0.5396 - val_loss: 0.6744 - val_accuracy: 0.5507\n",
            "Epoch 5/150\n",
            "14/14 [==============================] - 0s 5ms/step - loss: 0.6729 - accuracy: 0.5396 - val_loss: 0.6722 - val_accuracy: 0.5652\n",
            "Epoch 6/150\n",
            "14/14 [==============================] - 0s 5ms/step - loss: 0.6702 - accuracy: 0.5540 - val_loss: 0.6694 - val_accuracy: 0.5797\n",
            "Epoch 7/150\n",
            "14/14 [==============================] - 0s 4ms/step - loss: 0.6680 - accuracy: 0.5755 - val_loss: 0.6657 - val_accuracy: 0.5797\n",
            "Epoch 8/150\n",
            "14/14 [==============================] - 0s 4ms/step - loss: 0.6640 - accuracy: 0.5755 - val_loss: 0.6626 - val_accuracy: 0.6087\n",
            "Epoch 9/150\n",
            "14/14 [==============================] - 0s 5ms/step - loss: 0.6597 - accuracy: 0.5899 - val_loss: 0.6592 - val_accuracy: 0.6087\n",
            "Epoch 10/150\n",
            "14/14 [==============================] - 0s 5ms/step - loss: 0.6543 - accuracy: 0.5899 - val_loss: 0.6535 - val_accuracy: 0.6087\n",
            "Epoch 11/150\n",
            "14/14 [==============================] - 0s 4ms/step - loss: 0.6495 - accuracy: 0.6331 - val_loss: 0.6473 - val_accuracy: 0.6522\n",
            "Epoch 12/150\n",
            "14/14 [==============================] - 0s 5ms/step - loss: 0.6433 - accuracy: 0.6547 - val_loss: 0.6424 - val_accuracy: 0.6522\n",
            "Epoch 13/150\n",
            "14/14 [==============================] - 0s 4ms/step - loss: 0.6383 - accuracy: 0.6475 - val_loss: 0.6362 - val_accuracy: 0.6812\n",
            "Epoch 14/150\n",
            "14/14 [==============================] - 0s 5ms/step - loss: 0.6306 - accuracy: 0.6475 - val_loss: 0.6281 - val_accuracy: 0.7101\n",
            "Epoch 15/150\n",
            "14/14 [==============================] - 0s 4ms/step - loss: 0.6213 - accuracy: 0.6835 - val_loss: 0.6179 - val_accuracy: 0.6812\n",
            "Epoch 16/150\n",
            "14/14 [==============================] - 0s 4ms/step - loss: 0.6099 - accuracy: 0.6763 - val_loss: 0.6088 - val_accuracy: 0.6957\n",
            "Epoch 17/150\n",
            "14/14 [==============================] - 0s 5ms/step - loss: 0.5996 - accuracy: 0.6835 - val_loss: 0.5990 - val_accuracy: 0.6957\n",
            "Epoch 18/150\n",
            "14/14 [==============================] - 0s 4ms/step - loss: 0.5916 - accuracy: 0.6906 - val_loss: 0.5894 - val_accuracy: 0.6957\n",
            "Epoch 19/150\n",
            "14/14 [==============================] - 0s 4ms/step - loss: 0.5821 - accuracy: 0.6906 - val_loss: 0.5793 - val_accuracy: 0.7101\n",
            "Epoch 20/150\n",
            "14/14 [==============================] - 0s 5ms/step - loss: 0.5693 - accuracy: 0.7554 - val_loss: 0.5695 - val_accuracy: 0.7101\n",
            "Epoch 21/150\n",
            "14/14 [==============================] - 0s 4ms/step - loss: 0.5621 - accuracy: 0.7338 - val_loss: 0.5586 - val_accuracy: 0.6957\n",
            "Epoch 22/150\n",
            "14/14 [==============================] - 0s 4ms/step - loss: 0.5484 - accuracy: 0.7266 - val_loss: 0.5512 - val_accuracy: 0.7246\n",
            "Epoch 23/150\n",
            "14/14 [==============================] - 0s 5ms/step - loss: 0.5380 - accuracy: 0.8129 - val_loss: 0.5412 - val_accuracy: 0.7536\n",
            "Epoch 24/150\n",
            "14/14 [==============================] - 0s 5ms/step - loss: 0.5308 - accuracy: 0.8273 - val_loss: 0.5300 - val_accuracy: 0.7391\n",
            "Epoch 25/150\n",
            "14/14 [==============================] - 0s 4ms/step - loss: 0.5334 - accuracy: 0.7050 - val_loss: 0.5262 - val_accuracy: 0.7246\n",
            "Epoch 26/150\n",
            "14/14 [==============================] - 0s 5ms/step - loss: 0.5080 - accuracy: 0.7914 - val_loss: 0.5141 - val_accuracy: 0.7971\n",
            "Epoch 27/150\n",
            "14/14 [==============================] - 0s 4ms/step - loss: 0.5037 - accuracy: 0.7770 - val_loss: 0.5040 - val_accuracy: 0.7246\n",
            "Epoch 28/150\n",
            "14/14 [==============================] - 0s 4ms/step - loss: 0.5002 - accuracy: 0.7698 - val_loss: 0.4982 - val_accuracy: 0.8116\n",
            "Epoch 29/150\n",
            "14/14 [==============================] - 0s 4ms/step - loss: 0.4929 - accuracy: 0.7914 - val_loss: 0.4883 - val_accuracy: 0.7391\n",
            "Epoch 30/150\n",
            "14/14 [==============================] - 0s 4ms/step - loss: 0.4747 - accuracy: 0.8201 - val_loss: 0.4807 - val_accuracy: 0.7971\n",
            "Epoch 31/150\n",
            "14/14 [==============================] - 0s 4ms/step - loss: 0.4733 - accuracy: 0.8129 - val_loss: 0.4735 - val_accuracy: 0.7681\n",
            "Epoch 32/150\n",
            "14/14 [==============================] - 0s 5ms/step - loss: 0.4620 - accuracy: 0.8417 - val_loss: 0.4682 - val_accuracy: 0.8116\n",
            "Epoch 33/150\n",
            "14/14 [==============================] - 0s 4ms/step - loss: 0.4613 - accuracy: 0.8201 - val_loss: 0.4614 - val_accuracy: 0.7971\n",
            "Epoch 34/150\n",
            "14/14 [==============================] - 0s 5ms/step - loss: 0.4539 - accuracy: 0.7842 - val_loss: 0.4611 - val_accuracy: 0.7391\n",
            "Epoch 35/150\n",
            "14/14 [==============================] - 0s 5ms/step - loss: 0.4380 - accuracy: 0.8417 - val_loss: 0.4550 - val_accuracy: 0.8406\n",
            "Epoch 36/150\n",
            "14/14 [==============================] - 0s 5ms/step - loss: 0.4416 - accuracy: 0.8129 - val_loss: 0.4498 - val_accuracy: 0.7681\n",
            "Epoch 37/150\n",
            "14/14 [==============================] - 0s 5ms/step - loss: 0.4302 - accuracy: 0.8129 - val_loss: 0.4461 - val_accuracy: 0.8261\n",
            "Epoch 38/150\n",
            "14/14 [==============================] - 0s 4ms/step - loss: 0.4208 - accuracy: 0.8489 - val_loss: 0.4429 - val_accuracy: 0.7971\n",
            "Epoch 39/150\n",
            "14/14 [==============================] - 0s 6ms/step - loss: 0.4146 - accuracy: 0.8201 - val_loss: 0.4371 - val_accuracy: 0.8261\n",
            "Epoch 40/150\n",
            "14/14 [==============================] - 0s 6ms/step - loss: 0.4078 - accuracy: 0.8489 - val_loss: 0.4310 - val_accuracy: 0.8261\n",
            "Epoch 41/150\n",
            "14/14 [==============================] - 0s 5ms/step - loss: 0.4015 - accuracy: 0.8633 - val_loss: 0.4279 - val_accuracy: 0.8261\n",
            "Epoch 42/150\n",
            "14/14 [==============================] - 0s 5ms/step - loss: 0.4008 - accuracy: 0.8561 - val_loss: 0.4234 - val_accuracy: 0.8116\n",
            "Epoch 43/150\n",
            "14/14 [==============================] - 0s 6ms/step - loss: 0.3940 - accuracy: 0.8633 - val_loss: 0.4231 - val_accuracy: 0.8406\n",
            "Epoch 44/150\n",
            "14/14 [==============================] - 0s 5ms/step - loss: 0.3937 - accuracy: 0.8417 - val_loss: 0.4201 - val_accuracy: 0.8406\n",
            "Epoch 45/150\n",
            "14/14 [==============================] - 0s 6ms/step - loss: 0.3980 - accuracy: 0.8201 - val_loss: 0.4180 - val_accuracy: 0.8261\n",
            "Epoch 46/150\n",
            "14/14 [==============================] - 0s 5ms/step - loss: 0.3818 - accuracy: 0.8633 - val_loss: 0.4195 - val_accuracy: 0.8406\n",
            "Epoch 47/150\n",
            "14/14 [==============================] - 0s 5ms/step - loss: 0.3748 - accuracy: 0.8561 - val_loss: 0.4170 - val_accuracy: 0.8406\n",
            "Epoch 48/150\n",
            "14/14 [==============================] - 0s 4ms/step - loss: 0.3645 - accuracy: 0.8633 - val_loss: 0.4131 - val_accuracy: 0.8406\n",
            "Epoch 49/150\n",
            "14/14 [==============================] - 0s 6ms/step - loss: 0.3608 - accuracy: 0.8633 - val_loss: 0.4121 - val_accuracy: 0.8406\n",
            "Epoch 50/150\n",
            "14/14 [==============================] - 0s 5ms/step - loss: 0.3574 - accuracy: 0.8633 - val_loss: 0.4124 - val_accuracy: 0.8406\n",
            "Epoch 51/150\n",
            "14/14 [==============================] - 0s 5ms/step - loss: 0.3513 - accuracy: 0.8561 - val_loss: 0.4103 - val_accuracy: 0.8406\n",
            "Epoch 52/150\n",
            "14/14 [==============================] - 0s 5ms/step - loss: 0.3480 - accuracy: 0.8705 - val_loss: 0.4095 - val_accuracy: 0.8551\n",
            "Epoch 53/150\n",
            "14/14 [==============================] - 0s 5ms/step - loss: 0.3475 - accuracy: 0.8705 - val_loss: 0.4070 - val_accuracy: 0.8406\n",
            "Epoch 54/150\n",
            "14/14 [==============================] - 0s 4ms/step - loss: 0.3419 - accuracy: 0.8777 - val_loss: 0.4085 - val_accuracy: 0.8696\n",
            "Epoch 55/150\n",
            "14/14 [==============================] - 0s 4ms/step - loss: 0.3388 - accuracy: 0.8633 - val_loss: 0.4082 - val_accuracy: 0.8261\n",
            "Epoch 56/150\n",
            "14/14 [==============================] - 0s 4ms/step - loss: 0.3355 - accuracy: 0.8777 - val_loss: 0.4079 - val_accuracy: 0.8551\n",
            "Epoch 57/150\n",
            "14/14 [==============================] - 0s 4ms/step - loss: 0.3283 - accuracy: 0.8633 - val_loss: 0.4089 - val_accuracy: 0.8406\n",
            "Epoch 58/150\n",
            "14/14 [==============================] - 0s 5ms/step - loss: 0.3280 - accuracy: 0.8777 - val_loss: 0.4053 - val_accuracy: 0.8551\n",
            "Epoch 59/150\n",
            "14/14 [==============================] - 0s 4ms/step - loss: 0.3196 - accuracy: 0.8777 - val_loss: 0.4068 - val_accuracy: 0.8551\n",
            "Epoch 60/150\n",
            "14/14 [==============================] - 0s 4ms/step - loss: 0.3142 - accuracy: 0.8777 - val_loss: 0.4066 - val_accuracy: 0.8696\n",
            "Epoch 61/150\n",
            "14/14 [==============================] - 0s 4ms/step - loss: 0.3100 - accuracy: 0.8993 - val_loss: 0.4092 - val_accuracy: 0.8261\n",
            "Epoch 62/150\n",
            "14/14 [==============================] - 0s 4ms/step - loss: 0.3067 - accuracy: 0.8849 - val_loss: 0.4073 - val_accuracy: 0.8551\n",
            "Epoch 63/150\n",
            "14/14 [==============================] - 0s 4ms/step - loss: 0.3041 - accuracy: 0.9065 - val_loss: 0.4126 - val_accuracy: 0.8261\n",
            "Epoch 64/150\n",
            "14/14 [==============================] - 0s 5ms/step - loss: 0.3009 - accuracy: 0.8777 - val_loss: 0.4086 - val_accuracy: 0.8261\n",
            "Epoch 65/150\n",
            "14/14 [==============================] - 0s 5ms/step - loss: 0.2985 - accuracy: 0.8777 - val_loss: 0.4082 - val_accuracy: 0.8551\n",
            "Epoch 66/150\n",
            "14/14 [==============================] - 0s 5ms/step - loss: 0.2949 - accuracy: 0.9209 - val_loss: 0.4146 - val_accuracy: 0.8261\n",
            "Epoch 67/150\n",
            "14/14 [==============================] - 0s 5ms/step - loss: 0.2910 - accuracy: 0.9065 - val_loss: 0.4080 - val_accuracy: 0.8551\n",
            "Epoch 68/150\n",
            "14/14 [==============================] - 0s 5ms/step - loss: 0.2852 - accuracy: 0.8777 - val_loss: 0.4117 - val_accuracy: 0.8261\n",
            "Epoch 69/150\n",
            "14/14 [==============================] - 0s 4ms/step - loss: 0.2774 - accuracy: 0.9281 - val_loss: 0.4136 - val_accuracy: 0.8551\n",
            "Epoch 70/150\n",
            "14/14 [==============================] - 0s 5ms/step - loss: 0.2756 - accuracy: 0.9209 - val_loss: 0.4142 - val_accuracy: 0.8261\n",
            "Epoch 71/150\n",
            "14/14 [==============================] - 0s 5ms/step - loss: 0.2725 - accuracy: 0.8993 - val_loss: 0.4137 - val_accuracy: 0.8261\n",
            "Epoch 72/150\n",
            "14/14 [==============================] - 0s 4ms/step - loss: 0.2716 - accuracy: 0.9209 - val_loss: 0.4158 - val_accuracy: 0.8261\n",
            "Epoch 73/150\n",
            "14/14 [==============================] - 0s 4ms/step - loss: 0.2681 - accuracy: 0.9065 - val_loss: 0.4163 - val_accuracy: 0.8406\n",
            "Epoch 74/150\n",
            "14/14 [==============================] - 0s 5ms/step - loss: 0.2617 - accuracy: 0.9137 - val_loss: 0.4203 - val_accuracy: 0.8261\n",
            "Epoch 75/150\n",
            "14/14 [==============================] - 0s 5ms/step - loss: 0.2602 - accuracy: 0.9281 - val_loss: 0.4182 - val_accuracy: 0.8406\n",
            "Epoch 76/150\n",
            "14/14 [==============================] - 0s 5ms/step - loss: 0.2556 - accuracy: 0.9424 - val_loss: 0.4224 - val_accuracy: 0.8116\n",
            "Epoch 77/150\n",
            "14/14 [==============================] - 0s 5ms/step - loss: 0.2551 - accuracy: 0.9281 - val_loss: 0.4221 - val_accuracy: 0.8261\n",
            "Epoch 78/150\n",
            "14/14 [==============================] - 0s 5ms/step - loss: 0.2502 - accuracy: 0.9424 - val_loss: 0.4197 - val_accuracy: 0.8261\n",
            "Epoch 79/150\n",
            "14/14 [==============================] - 0s 5ms/step - loss: 0.2478 - accuracy: 0.9353 - val_loss: 0.4287 - val_accuracy: 0.8261\n",
            "Epoch 80/150\n",
            "14/14 [==============================] - 0s 6ms/step - loss: 0.2542 - accuracy: 0.8849 - val_loss: 0.4254 - val_accuracy: 0.8406\n",
            "Epoch 81/150\n",
            "14/14 [==============================] - 0s 5ms/step - loss: 0.2475 - accuracy: 0.9281 - val_loss: 0.4266 - val_accuracy: 0.8261\n",
            "Epoch 82/150\n",
            "14/14 [==============================] - 0s 4ms/step - loss: 0.2484 - accuracy: 0.9209 - val_loss: 0.4269 - val_accuracy: 0.8261\n",
            "Epoch 83/150\n",
            "14/14 [==============================] - 0s 4ms/step - loss: 0.2520 - accuracy: 0.9137 - val_loss: 0.4300 - val_accuracy: 0.8116\n",
            "Epoch 84/150\n",
            "14/14 [==============================] - 0s 4ms/step - loss: 0.2569 - accuracy: 0.8777 - val_loss: 0.4289 - val_accuracy: 0.8261\n",
            "Epoch 85/150\n",
            "14/14 [==============================] - 0s 4ms/step - loss: 0.2380 - accuracy: 0.9424 - val_loss: 0.4333 - val_accuracy: 0.8261\n",
            "Epoch 86/150\n",
            "14/14 [==============================] - 0s 4ms/step - loss: 0.2289 - accuracy: 0.9281 - val_loss: 0.4334 - val_accuracy: 0.8116\n",
            "Epoch 87/150\n",
            "14/14 [==============================] - 0s 5ms/step - loss: 0.2258 - accuracy: 0.9496 - val_loss: 0.4409 - val_accuracy: 0.8261\n",
            "Epoch 88/150\n",
            "14/14 [==============================] - 0s 4ms/step - loss: 0.2249 - accuracy: 0.9353 - val_loss: 0.4359 - val_accuracy: 0.8261\n",
            "Epoch 89/150\n",
            "14/14 [==============================] - 0s 5ms/step - loss: 0.2200 - accuracy: 0.9424 - val_loss: 0.4402 - val_accuracy: 0.8261\n",
            "Epoch 90/150\n",
            "14/14 [==============================] - 0s 4ms/step - loss: 0.2252 - accuracy: 0.9353 - val_loss: 0.4464 - val_accuracy: 0.8261\n",
            "Epoch 91/150\n",
            "14/14 [==============================] - 0s 4ms/step - loss: 0.2179 - accuracy: 0.9496 - val_loss: 0.4349 - val_accuracy: 0.8116\n",
            "Epoch 92/150\n",
            "14/14 [==============================] - 0s 4ms/step - loss: 0.2100 - accuracy: 0.9496 - val_loss: 0.4450 - val_accuracy: 0.8116\n",
            "Epoch 93/150\n",
            "14/14 [==============================] - 0s 5ms/step - loss: 0.2077 - accuracy: 0.9568 - val_loss: 0.4418 - val_accuracy: 0.8116\n",
            "Epoch 94/150\n",
            "14/14 [==============================] - 0s 6ms/step - loss: 0.2068 - accuracy: 0.9496 - val_loss: 0.4500 - val_accuracy: 0.8261\n",
            "Epoch 95/150\n",
            "14/14 [==============================] - 0s 5ms/step - loss: 0.2050 - accuracy: 0.9496 - val_loss: 0.4466 - val_accuracy: 0.8261\n",
            "Epoch 96/150\n",
            "14/14 [==============================] - 0s 5ms/step - loss: 0.2023 - accuracy: 0.9424 - val_loss: 0.4508 - val_accuracy: 0.8261\n",
            "Epoch 97/150\n",
            "14/14 [==============================] - 0s 6ms/step - loss: 0.1993 - accuracy: 0.9496 - val_loss: 0.4520 - val_accuracy: 0.8261\n",
            "Epoch 98/150\n",
            "14/14 [==============================] - 0s 8ms/step - loss: 0.1995 - accuracy: 0.9568 - val_loss: 0.4451 - val_accuracy: 0.8116\n",
            "Epoch 99/150\n",
            "14/14 [==============================] - 0s 17ms/step - loss: 0.1951 - accuracy: 0.9496 - val_loss: 0.4580 - val_accuracy: 0.8261\n",
            "Epoch 100/150\n",
            "14/14 [==============================] - 0s 8ms/step - loss: 0.1910 - accuracy: 0.9568 - val_loss: 0.4564 - val_accuracy: 0.8116\n",
            "Epoch 101/150\n",
            "14/14 [==============================] - 0s 7ms/step - loss: 0.1935 - accuracy: 0.9496 - val_loss: 0.4717 - val_accuracy: 0.7971\n",
            "Epoch 102/150\n",
            "14/14 [==============================] - 0s 8ms/step - loss: 0.1944 - accuracy: 0.9353 - val_loss: 0.4569 - val_accuracy: 0.7971\n",
            "Epoch 103/150\n",
            "14/14 [==============================] - 0s 10ms/step - loss: 0.1878 - accuracy: 0.9281 - val_loss: 0.4667 - val_accuracy: 0.8116\n",
            "Epoch 104/150\n",
            "14/14 [==============================] - 0s 10ms/step - loss: 0.1839 - accuracy: 0.9424 - val_loss: 0.4590 - val_accuracy: 0.7971\n",
            "Epoch 105/150\n",
            "14/14 [==============================] - 0s 9ms/step - loss: 0.1838 - accuracy: 0.9568 - val_loss: 0.4717 - val_accuracy: 0.7971\n",
            "Epoch 106/150\n",
            "14/14 [==============================] - 0s 10ms/step - loss: 0.1797 - accuracy: 0.9568 - val_loss: 0.4669 - val_accuracy: 0.7971\n",
            "Epoch 107/150\n",
            "14/14 [==============================] - 0s 4ms/step - loss: 0.1927 - accuracy: 0.9496 - val_loss: 0.4733 - val_accuracy: 0.8116\n",
            "Epoch 108/150\n",
            "14/14 [==============================] - 0s 4ms/step - loss: 0.1756 - accuracy: 0.9640 - val_loss: 0.4623 - val_accuracy: 0.8116\n",
            "Epoch 109/150\n",
            "14/14 [==============================] - 0s 4ms/step - loss: 0.1690 - accuracy: 0.9712 - val_loss: 0.4703 - val_accuracy: 0.7971\n",
            "Epoch 110/150\n",
            "14/14 [==============================] - 0s 4ms/step - loss: 0.1727 - accuracy: 0.9568 - val_loss: 0.4742 - val_accuracy: 0.7971\n",
            "Epoch 111/150\n",
            "14/14 [==============================] - 0s 5ms/step - loss: 0.1694 - accuracy: 0.9712 - val_loss: 0.4804 - val_accuracy: 0.8261\n",
            "Epoch 112/150\n",
            "14/14 [==============================] - 0s 5ms/step - loss: 0.1655 - accuracy: 0.9712 - val_loss: 0.4728 - val_accuracy: 0.8116\n",
            "Epoch 113/150\n",
            "14/14 [==============================] - 0s 4ms/step - loss: 0.1695 - accuracy: 0.9568 - val_loss: 0.4797 - val_accuracy: 0.7826\n",
            "Epoch 114/150\n",
            "14/14 [==============================] - 0s 4ms/step - loss: 0.1665 - accuracy: 0.9568 - val_loss: 0.4766 - val_accuracy: 0.8116\n",
            "Epoch 115/150\n",
            "14/14 [==============================] - 0s 5ms/step - loss: 0.1672 - accuracy: 0.9640 - val_loss: 0.4780 - val_accuracy: 0.8116\n",
            "Epoch 116/150\n",
            "14/14 [==============================] - 0s 5ms/step - loss: 0.1627 - accuracy: 0.9496 - val_loss: 0.4811 - val_accuracy: 0.8116\n",
            "Epoch 117/150\n",
            "14/14 [==============================] - 0s 4ms/step - loss: 0.1571 - accuracy: 0.9784 - val_loss: 0.4830 - val_accuracy: 0.7971\n",
            "Epoch 118/150\n",
            "14/14 [==============================] - 0s 4ms/step - loss: 0.1549 - accuracy: 0.9712 - val_loss: 0.4869 - val_accuracy: 0.7971\n",
            "Epoch 119/150\n",
            "14/14 [==============================] - 0s 4ms/step - loss: 0.1557 - accuracy: 0.9712 - val_loss: 0.4849 - val_accuracy: 0.7971\n",
            "Epoch 120/150\n",
            "14/14 [==============================] - 0s 4ms/step - loss: 0.1525 - accuracy: 0.9712 - val_loss: 0.4865 - val_accuracy: 0.8116\n",
            "Epoch 121/150\n",
            "14/14 [==============================] - 0s 6ms/step - loss: 0.1489 - accuracy: 0.9712 - val_loss: 0.4826 - val_accuracy: 0.8116\n",
            "Epoch 122/150\n",
            "14/14 [==============================] - 0s 10ms/step - loss: 0.1502 - accuracy: 0.9712 - val_loss: 0.4977 - val_accuracy: 0.7826\n",
            "Epoch 123/150\n",
            "14/14 [==============================] - 0s 9ms/step - loss: 0.1441 - accuracy: 0.9712 - val_loss: 0.4862 - val_accuracy: 0.8116\n",
            "Epoch 124/150\n",
            "14/14 [==============================] - 0s 7ms/step - loss: 0.1429 - accuracy: 0.9784 - val_loss: 0.4955 - val_accuracy: 0.8116\n",
            "Epoch 125/150\n",
            "14/14 [==============================] - 0s 10ms/step - loss: 0.1426 - accuracy: 0.9712 - val_loss: 0.4933 - val_accuracy: 0.7971\n",
            "Epoch 126/150\n",
            "14/14 [==============================] - 0s 10ms/step - loss: 0.1418 - accuracy: 0.9712 - val_loss: 0.4983 - val_accuracy: 0.7826\n",
            "Epoch 127/150\n",
            "14/14 [==============================] - 0s 13ms/step - loss: 0.1490 - accuracy: 0.9568 - val_loss: 0.4949 - val_accuracy: 0.8116\n",
            "Epoch 128/150\n",
            "14/14 [==============================] - 0s 7ms/step - loss: 0.1472 - accuracy: 0.9640 - val_loss: 0.5011 - val_accuracy: 0.7826\n",
            "Epoch 129/150\n",
            "14/14 [==============================] - 0s 7ms/step - loss: 0.1415 - accuracy: 0.9712 - val_loss: 0.4956 - val_accuracy: 0.8116\n",
            "Epoch 130/150\n",
            "14/14 [==============================] - 0s 5ms/step - loss: 0.1427 - accuracy: 0.9784 - val_loss: 0.5125 - val_accuracy: 0.7826\n",
            "Epoch 131/150\n",
            "14/14 [==============================] - 0s 5ms/step - loss: 0.1422 - accuracy: 0.9712 - val_loss: 0.5027 - val_accuracy: 0.7971\n",
            "Epoch 132/150\n",
            "14/14 [==============================] - 0s 4ms/step - loss: 0.1333 - accuracy: 0.9784 - val_loss: 0.5057 - val_accuracy: 0.7971\n",
            "Epoch 133/150\n",
            "14/14 [==============================] - 0s 4ms/step - loss: 0.1277 - accuracy: 0.9784 - val_loss: 0.5052 - val_accuracy: 0.7971\n",
            "Epoch 134/150\n",
            "14/14 [==============================] - 0s 5ms/step - loss: 0.1252 - accuracy: 0.9784 - val_loss: 0.5120 - val_accuracy: 0.7971\n",
            "Epoch 135/150\n",
            "14/14 [==============================] - 0s 6ms/step - loss: 0.1251 - accuracy: 0.9784 - val_loss: 0.5159 - val_accuracy: 0.7971\n",
            "Epoch 136/150\n",
            "14/14 [==============================] - 0s 5ms/step - loss: 0.1272 - accuracy: 0.9712 - val_loss: 0.5166 - val_accuracy: 0.7826\n",
            "Epoch 137/150\n",
            "14/14 [==============================] - 0s 4ms/step - loss: 0.1227 - accuracy: 0.9784 - val_loss: 0.5148 - val_accuracy: 0.7971\n",
            "Epoch 138/150\n",
            "14/14 [==============================] - 0s 5ms/step - loss: 0.1242 - accuracy: 0.9784 - val_loss: 0.5158 - val_accuracy: 0.7971\n",
            "Epoch 139/150\n",
            "14/14 [==============================] - 0s 4ms/step - loss: 0.1272 - accuracy: 0.9712 - val_loss: 0.5256 - val_accuracy: 0.7971\n",
            "Epoch 140/150\n",
            "14/14 [==============================] - 0s 5ms/step - loss: 0.1182 - accuracy: 0.9784 - val_loss: 0.5143 - val_accuracy: 0.8116\n",
            "Epoch 141/150\n",
            "14/14 [==============================] - 0s 5ms/step - loss: 0.1163 - accuracy: 0.9784 - val_loss: 0.5256 - val_accuracy: 0.7681\n",
            "Epoch 142/150\n",
            "14/14 [==============================] - 0s 5ms/step - loss: 0.1168 - accuracy: 0.9784 - val_loss: 0.5209 - val_accuracy: 0.8116\n",
            "Epoch 143/150\n",
            "14/14 [==============================] - 0s 5ms/step - loss: 0.1131 - accuracy: 0.9856 - val_loss: 0.5350 - val_accuracy: 0.7971\n",
            "Epoch 144/150\n",
            "14/14 [==============================] - 0s 6ms/step - loss: 0.1130 - accuracy: 0.9856 - val_loss: 0.5317 - val_accuracy: 0.7971\n",
            "Epoch 145/150\n",
            "14/14 [==============================] - 0s 4ms/step - loss: 0.1093 - accuracy: 0.9784 - val_loss: 0.5295 - val_accuracy: 0.7971\n",
            "Epoch 146/150\n",
            "14/14 [==============================] - 0s 5ms/step - loss: 0.1112 - accuracy: 0.9856 - val_loss: 0.5348 - val_accuracy: 0.7681\n",
            "Epoch 147/150\n",
            "14/14 [==============================] - 0s 5ms/step - loss: 0.1094 - accuracy: 0.9856 - val_loss: 0.5325 - val_accuracy: 0.7971\n",
            "Epoch 148/150\n",
            "14/14 [==============================] - 0s 5ms/step - loss: 0.1113 - accuracy: 0.9856 - val_loss: 0.5320 - val_accuracy: 0.8116\n",
            "Epoch 149/150\n",
            "14/14 [==============================] - 0s 5ms/step - loss: 0.1101 - accuracy: 0.9856 - val_loss: 0.5420 - val_accuracy: 0.7826\n",
            "Epoch 150/150\n",
            "14/14 [==============================] - 0s 4ms/step - loss: 0.1078 - accuracy: 0.9784 - val_loss: 0.5424 - val_accuracy: 0.7681\n"
          ]
        }
      ]
    },
    {
      "cell_type": "markdown",
      "source": [
        "### Graficar la historia"
      ],
      "metadata": {
        "id": "LPxtkgUPOT1K"
      }
    },
    {
      "cell_type": "code",
      "source": [
        "# Función para graficar la historia\n",
        "\n",
        "EPOCAS = 150\n",
        "import matplotlib.pyplot as plt\n",
        "import numpy as np\n",
        "def graficar(h):\n",
        "  LOSS = 0; ACCURACY = 1\n",
        "  entrenamiento = np.zeros((2,EPOCAS));\n",
        "  prueba = np.zeros((2,EPOCAS));\n",
        "  entrenamiento[LOSS] = h.history['loss'] # loss de entrenamiento\n",
        "  prueba[LOSS] = h.history['val_loss'] # loss de validación\n",
        "  entrenamiento[ACCURACY] = h.history['accuracy'] #acc de entrenamiento\n",
        "  prueba[ACCURACY] = h.history['val_accuracy'] #acc de validación\n",
        "  epocas = range(1,EPOCAS+1)\n",
        "  fig, axs = plt.subplots(1,2,figsize=(15,5))\n",
        "  for i, label in zip((LOSS,ACCURACY),('perdida','exactitud')):\n",
        "    axs[i].plot(epocas,entrenamiento[i],'b-',label='Entrenamiento '+label)\n",
        "    axs[i].plot(epocas,prueba[i],'y-',label='Prueba '+label)\n",
        "    axs[i].set_title('Entrenamiento y prueba ' + label)\n",
        "    axs[i].set_xlabel('Epocas')\n",
        "    axs[i].set_ylabel(label)\n",
        "    axs[i].legend()\n",
        "  plt.show()"
      ],
      "metadata": {
        "id": "nN_B__4qOUZk"
      },
      "execution_count": null,
      "outputs": []
    },
    {
      "cell_type": "code",
      "source": [
        "graficar(historia)"
      ],
      "metadata": {
        "colab": {
          "base_uri": "https://localhost:8080/",
          "height": 350
        },
        "id": "8616Yw4ZOc-6",
        "outputId": "8a18a2d7-0468-4172-9608-b22774d4e959"
      },
      "execution_count": null,
      "outputs": [
        {
          "output_type": "display_data",
          "data": {
            "text/plain": [
              "<Figure size 1080x360 with 2 Axes>"
            ],
            "image/png": "[encoded data removed]"
          },
          "metadata": {
            "needs_background": "light"
          }
        }
      ]
    }
  ]
}